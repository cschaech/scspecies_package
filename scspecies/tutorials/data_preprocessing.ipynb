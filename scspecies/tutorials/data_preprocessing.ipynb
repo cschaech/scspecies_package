{
 "cells": [
  {
   "cell_type": "markdown",
   "metadata": {},
   "source": [
    "# Set up datasets for scSpecies\n",
    "\n",
    "This tutorial demonstrates how to setup anndata scRNA-seq datasets such that they can be integrated by scSpecies.\n",
    "\n",
    "We start by downloading three liver cell datasets from mice, humans and hamsters.  "
   ]
  },
  {
   "cell_type": "code",
   "execution_count": 1,
   "metadata": {},
   "outputs": [
    {
     "name": "stdout",
     "output_type": "stream",
     "text": [
      "human_liver.h5ad already exists. Skipping download.\n",
      "mouse_liver.h5ad already exists. Skipping download.\n",
      "hamster_liver.h5ad already exists. Skipping download.\n",
      "All datasets have been downloaded to the ./data directory.\n"
     ]
    }
   ],
   "source": [
    "from scspecies.preprocessing import download_datasets\n",
    "import os\n",
    "\n",
    "path = os.path.abspath('').replace('\\\\', '/')+'/'\n",
    "download_datasets()"
   ]
  },
  {
   "cell_type": "markdown",
   "metadata": {},
   "source": [
    "As a first step we load the context and target datasets as `.h5ad` files.  \n",
    "Custom datasets must have raw counts saved as `Compressed Sparse Row` sparse matrix of dtype 'float32'.\n",
    "\n",
    "As context dataset we will use the `mouse_liver.h5ad` file, which contains mouse liver cell samples.   \n",
    "As target datasets we will use the `human_liver.h5ad` file, which contains human liver cell samples and\n",
    "the `hamster_liver.h5ad` file, which contains hamster liver cell samples.\n",
    "\n",
    "NOTE: The three datasets are subsampled from the mouse, hamster and human liver cell atlas.\n",
    "It is not possible to reproduce exact results of the publication with these datasets as they contain different gene sets and cells.\n",
    "\n",
    "First, gene sets were reduced to 4000 highly variable genes that are expressed in more than 2.5% of cells.  \n",
    "Second, cells belonging to large cell types were randomly sampled to contain 1500 samples.  \n",
    "Third, unlabeled cells and cells with a labeling conflicts between fine and coarse labels were removed.  \n",
    "Lastly, we only included cells obtained via CITE-seq and scRNA-seq.  \n",
    "\n",
    "The full datasets can be accessed via https://www.livercellatlas.org/."
   ]
  },
  {
   "cell_type": "code",
   "execution_count": 2,
   "metadata": {},
   "outputs": [],
   "source": [
    "import anndata as ad\n",
    "import scipy.sparse as sp\n",
    "\n",
    "adata_mouse = ad.read_h5ad(path+\"data/mouse_liver.h5ad\")\n",
    "adata_human = ad.read_h5ad(path+\"data/human_liver.h5ad\")\n",
    "adata_hamster = ad.read_h5ad(path+\"data/hamster_liver.h5ad\")"
   ]
  },
  {
   "cell_type": "markdown",
   "metadata": {},
   "source": [
    "Next, we specify the `.obs` keys under which the cell and batch labels for the context and target dataset are stored.  \n",
    "For the target dataset, cell type annotation is not required.   \n",
    "However, we will use existing annotation for visualization and to compute performance metrics.\n",
    "When the target cell annotation is unknown this can be indicated by `target_cell_key = None`.  \n",
    "\n",
    "NOTE:\n",
    "For precise metric calculation annotation should match across datasets.  "
   ]
  },
  {
   "cell_type": "code",
   "execution_count": 3,
   "metadata": {},
   "outputs": [],
   "source": [
    "mouse_batch_key = 'batch'\n",
    "mouse_cell_key = 'cell_type_fine'\n",
    "\n",
    "human_batch_key = 'batch'\n",
    "human_cell_key = 'cell_type_fine'\n",
    "\n",
    "hamster_batch_key = 'batch'\n",
    "hamster_cell_key = 'cell_type_coarse'"
   ]
  },
  {
   "cell_type": "markdown",
   "metadata": {},
   "source": [
    "\n",
    "Next, we specify the gene naming convention of the datasets.   \n",
    "scSpecies can match homologous genes between arbitrary genomes via the NCBI Taxon ID using the package `mygene`.  \n",
    "\n",
    "A list of commonly used model species is provided below:\n",
    "\n",
    "\n",
    "| Species                    | NCBI Taxonomy ID   |\n",
    "|----------------------------|--------------------|\n",
    "| human                      | 9606               |\n",
    "| mouse                      | 10090              |\n",
    "| hamster                    | 10036              |\n",
    "| rat                        | 10116              |\n",
    "| zebrafish                  | 7955               |\n",
    "| fruit fly                  | 7227               |\n",
    "| chicken                    | 9031               |\n",
    "| pig                        | 9823               |\n",
    "| rhesus macaque             | 9544               |\n",
    "| rabbit                     | 9986               |\n",
    "\n",
    "*Note: The Liver cell atlas has already mapped the gene names to mouse or human gene symbols. We will therefore set the Taxonomy ID to 10090 for the hamster dataset.*\n"
   ]
  },
  {
   "cell_type": "code",
   "execution_count": 4,
   "metadata": {},
   "outputs": [
    {
     "name": "stdout",
     "output_type": "stream",
     "text": [
      "\n",
      "First mouse  gene names:  Index(['Sox17', 'Mrpl15', 'Sntg1', 'Adhfe1', 'Snhg6'], dtype='object')\n",
      "\n",
      "First human gene names:  Index(['RP11-54O7.17', 'HES4', 'ISG15', 'TNFRSF18', 'TNFRSF4'], dtype='object')\n",
      "\n",
      "First hamster gene names:  Index(['Tcf7l2', 'Adra2a', 'Dusp5', 'Mxi1', 'Add3'], dtype='object')\n"
     ]
    }
   ],
   "source": [
    "mouse_NCBI_Taxon_ID = 10090\n",
    "print('\\nFirst mouse  gene names: ', adata_mouse.var_names[0:5])\n",
    "\n",
    "human_NCBI_Taxon_ID = 9606\n",
    "print('\\nFirst human gene names: ', adata_human.var_names[0:5])\n",
    "\n",
    "hamster_NCBI_Taxon_ID = 10090 #Gene symbols follow the mouse convention in the hamster liver cell dataset.\n",
    "print('\\nFirst hamster gene names: ', adata_hamster.var_names[0:5])"
   ]
  },
  {
   "cell_type": "markdown",
   "metadata": {},
   "source": [
    "Next, we create a `muon.MuData` file (https://muon.readthedocs.io/en/latest/) which scSpecies uses during training.  \n",
    "Each species will occupy one modality.  \n",
    "\n",
    "We instantiate a preprocessing class and register context and target `anndata.AnnData` datasets.  \n",
    "This class translates the gene names, performs the data-level nearest neighbor search on homologous genes,   \n",
    "one-hot-encodes experimental batch effects, computes the library encoder prior parameters.\n",
    "\n",
    "We recommend to subset to the gene sets of interest before inputting them into the preprocessing class.  \n",
    "Gene sets do not have to be of similar sizes. To demonstrate this, we randomly subset the hamster dataset to 3500 genes.\n",
    "The other datasets have 4000 genes.\n",
    "\n",
    "NOTE: scSpecies needs integer count values without any preprocessing transformations such as log1p or normalisation."
   ]
  },
  {
   "cell_type": "code",
   "execution_count": 5,
   "metadata": {},
   "outputs": [
    {
     "name": "stdout",
     "output_type": "stream",
     "text": [
      "Registering experimental batches for the mouse dataset. Kept 34, removed 34.\n",
      "Compute prior parameters for the library encoder.\n",
      "Filtering cells. Kept 37717, removed 0.\n",
      "Done!\n",
      "------------------------------------------------------------------------------------------\n",
      "Registering experimental batches for the human dataset. Kept 30, removed 30.\n",
      "Compute prior parameters for the library encoder.\n",
      "Filtering cells. Kept 34993, removed 0.\n",
      "Translating homologous gene names between mouse context and human target dataset.\n",
      "Could map \u001b[33m3535\u001b[0m of 4000 target gene symbols to context species gene symbols\n",
      "Found \u001b[35m1785\u001b[0m shared homologous genes between context and target dataset\n",
      "Perform the data-level nearest neigbor search on the homologous gene set.\n",
      "Evaluating data level NNS and calculating cells with the highest agreement for context labels key cell_type_fine.\n",
      "Done!\n",
      "------------------------------------------------------------------------------------------\n",
      "Registering experimental batches for the hamster dataset. Kept 2, removed 2.\n",
      "Compute prior parameters for the library encoder.\n",
      "Filtering cells. Kept 5953, removed 2.\n",
      "Translating homologous gene names between mouse context and hamster target dataset.\n",
      "Could map \u001b[33m3500\u001b[0m of 3500 target gene symbols to context species gene symbols\n",
      "Found \u001b[35m1475\u001b[0m shared homologous genes between context and target dataset\n",
      "Perform the data-level nearest neigbor search on the homologous gene set.\n",
      "Evaluating data level NNS and calculating cells with the highest agreement for context labels key cell_type_coarse.\n",
      "Done!\n",
      "------------------------------------------------------------------------------------------\n",
      "Saved mdata to data/liver_atlas.h5mu.\n"
     ]
    }
   ],
   "source": [
    "from scspecies.preprocessing import create_mdata\n",
    "\n",
    "import warnings\n",
    "import numpy as np\n",
    "warnings.filterwarnings(\"ignore\", category=UserWarning)\n",
    "\n",
    "preprocess = create_mdata(\n",
    "    adata=adata_mouse, \n",
    "    batch_key=mouse_batch_key, \n",
    "    cell_key=mouse_cell_key, \n",
    "    dataset_name='mouse', \n",
    "    NCBI_Taxon_ID=mouse_NCBI_Taxon_ID, \n",
    "    )\n",
    "\n",
    "preprocess.setup_target_adata(\n",
    "    adata=adata_human, \n",
    "    batch_key=human_batch_key, \n",
    "    cell_key=human_cell_key, \n",
    "    dataset_name='human', \n",
    "    NCBI_Taxon_ID=human_NCBI_Taxon_ID, \n",
    "    )\n",
    "\n",
    "adata_hamster = adata_hamster[:, np.random.choice(4000, size=3500, replace=False)]\n",
    "\n",
    "preprocess.setup_target_adata(\n",
    "    adata=adata_hamster, \n",
    "    batch_key=hamster_batch_key, \n",
    "    cell_key=hamster_cell_key, \n",
    "    dataset_name='hamster', \n",
    "    NCBI_Taxon_ID=mouse_NCBI_Taxon_ID, \n",
    "    )\n",
    "\n",
    "mdata = preprocess.return_mdata(save=True, save_name='liver_atlas') "
   ]
  },
  {
   "cell_type": "markdown",
   "metadata": {},
   "source": [
    "The final mdata object contains the data set names as modality keys.  \n",
    "\n",
    "The `create_mdata` class has added additional keys to the `adata` input corresponding to the preprocessing steps.  \n",
    "\n",
    "`mdata.mod[key].obs['library_log_mean']` - Library size encoder prior parameter (mu).   \n",
    "`mdata.mod[key].obs['library_log_std']` - Library size encoder prior parameter (sigma).  \n",
    "`mdata.mod[key].obs['dataset']` - Datset/species name.   \n",
    "\n",
    "`mdata.mod[key].uns['metadata']` - Dataset metadata information, e.g. cell and batch annotation keys.  \n",
    "`mdata.mod[key].uns['batch_dict']`- Dictionary containing the experimental batches each cell types contains samples in.  \n",
    "\n",
    "`mdata.mod[key].obsm['batch_label_enc']` - Onehot-encoded batch labels.  \n",
    "`mdata.mod[target_key].obsm['ind_nns_hom_genes']` - Indices for candidate cells of the data-level nearest neighbor search.  "
   ]
  },
  {
   "cell_type": "code",
   "execution_count": 6,
   "metadata": {},
   "outputs": [
    {
     "name": "stdout",
     "output_type": "stream",
     "text": [
      "MuData object with n_obs × n_vars = 78663 × 11500\n",
      "  3 modalities\n",
      "    mouse:\t37717 x 4000\n",
      "      obs:\t'cell_type_coarse', 'batch', 'cell_type_fine', 'dataset', 'library_log_mean', 'library_log_std', 'n_genes'\n",
      "      uns:\t'metadata', 'batch_dict'\n",
      "      obsm:\t'batch_label_enc'\n",
      "    human:\t34993 x 4000\n",
      "      obs:\t'cell_type_coarse', 'batch', 'cell_type_fine', 'dataset', 'library_log_mean', 'library_log_std', 'n_genes', 'top_percent_cell_type_fine', 'pred_nns_cell_type_fine'\n",
      "      var:\t'var_names_transl'\n",
      "      uns:\t'metadata', 'batch_dict'\n",
      "      obsm:\t'batch_label_enc', 'ind_neigh_nns'\n",
      "    hamster:\t5953 x 3500\n",
      "      obs:\t'cell_type_coarse', 'batch', 'dataset', 'library_log_mean', 'library_log_std', 'n_genes', 'top_percent_cell_type_coarse', 'pred_nns_cell_type_coarse'\n",
      "      var:\t'var_names_transl'\n",
      "      uns:\t'metadata', 'batch_dict'\n",
      "      obsm:\t'ind_nns_hom_genes', 'batch_label_enc', 'ind_neigh_nns'\n"
     ]
    }
   ],
   "source": [
    "print(mdata)"
   ]
  }
 ],
 "metadata": {
  "kernelspec": {
   "display_name": ".venv",
   "language": "python",
   "name": "python3"
  },
  "language_info": {
   "codemirror_mode": {
    "name": "ipython",
    "version": 3
   },
   "file_extension": ".py",
   "mimetype": "text/x-python",
   "name": "python",
   "nbconvert_exporter": "python",
   "pygments_lexer": "ipython3",
   "version": "3.11.8"
  }
 },
 "nbformat": 4,
 "nbformat_minor": 4
}
